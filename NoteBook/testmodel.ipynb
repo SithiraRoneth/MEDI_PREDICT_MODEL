{
 "cells": [
  {
   "cell_type": "code",
   "execution_count": 7,
   "id": "04814aef",
   "metadata": {},
   "outputs": [
    {
     "name": "stdout",
     "output_type": "stream",
     "text": [
      "Text: A 50-year-old female presents with persistent high-grade fever (up to 40.2°C), severe headache, and photophobia. She also reports neck stiffness and vomiting. Neurological exam shows positive Kernig’s sign. CSF analysis pending.\n",
      "Predicted specialty: Neurology\n",
      "Top 3 probable classes: {'Neurology': '0.21', 'Cardiovascular / Pulmonary': '0.16', 'Orthopedic': '0.15'}\n",
      "------------------------------------------------------------\n"
     ]
    }
   ],
   "source": [
    "import joblib\n",
    "\n",
    "# Load the saved model\n",
    "model = joblib.load(\"../artifacts/model.joblib\")\n",
    "\n",
    "# Custom text inputs\n",
    "examples = [\n",
    "    \"A 50-year-old female presents with persistent high-grade fever (up to 40.2°C), severe headache, and photophobia. She also reports neck stiffness and vomiting. Neurological exam shows positive Kernig’s sign. CSF analysis pending.\"\n",
    "]\n",
    "\n",
    "# Predict\n",
    "preds = model.predict(examples)\n",
    "probs = model.predict_proba(examples)\n",
    "\n",
    "for text, pred, prob in zip(examples, preds, probs):\n",
    "    print(\"Text:\", text)\n",
    "    print(\"Predicted specialty:\", pred)\n",
    "    print(\"Top 3 probable classes:\", \n",
    "          {cls: f\"{p:.2f}\" for cls, p in sorted(\n",
    "              zip(model.classes_, prob), key=lambda x: x[1], reverse=True)[:3]})\n",
    "    print(\"-\"*60)\n"
   ]
  }
 ],
 "metadata": {
  "kernelspec": {
   "display_name": "Python 3",
   "language": "python",
   "name": "python3"
  },
  "language_info": {
   "codemirror_mode": {
    "name": "ipython",
    "version": 3
   },
   "file_extension": ".py",
   "mimetype": "text/x-python",
   "name": "python",
   "nbconvert_exporter": "python",
   "pygments_lexer": "ipython3",
   "version": "3.13.0"
  }
 },
 "nbformat": 4,
 "nbformat_minor": 5
}
