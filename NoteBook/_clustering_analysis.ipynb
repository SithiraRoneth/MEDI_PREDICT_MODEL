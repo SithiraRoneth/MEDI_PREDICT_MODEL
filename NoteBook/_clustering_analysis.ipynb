{
 "cells": [
  {
   "cell_type": "code",
   "execution_count": 9,
   "id": "e395b1f2",
   "metadata": {},
   "outputs": [],
   "source": [
    "# ==============================\n",
    "# 1. Imports\n",
    "# ==============================\n",
    "import pandas as pd\n",
    "import matplotlib.pyplot as plt\n",
    "import seaborn as sns\n",
    "\n",
    "from datasets import load_dataset\n",
    "from sklearn.feature_extraction.text import TfidfVectorizer\n",
    "from sklearn.cluster import KMeans\n",
    "from sklearn.metrics import silhouette_score\n",
    "\n",
    "sns.set(style=\"whitegrid\")\n"
   ]
  },
  {
   "cell_type": "code",
   "execution_count": 10,
   "id": "28e36098",
   "metadata": {},
   "outputs": [
    {
     "name": "stderr",
     "output_type": "stream",
     "text": [
      "Repo card metadata block was not found. Setting CardData to empty.\n"
     ]
    },
    {
     "name": "stdout",
     "output_type": "stream",
     "text": [
      "Total samples: 2464\n"
     ]
    },
    {
     "data": {
      "text/html": [
       "<div>\n",
       "<style scoped>\n",
       "    .dataframe tbody tr th:only-of-type {\n",
       "        vertical-align: middle;\n",
       "    }\n",
       "\n",
       "    .dataframe tbody tr th {\n",
       "        vertical-align: top;\n",
       "    }\n",
       "\n",
       "    .dataframe thead th {\n",
       "        text-align: right;\n",
       "    }\n",
       "</style>\n",
       "<table border=\"1\" class=\"dataframe\">\n",
       "  <thead>\n",
       "    <tr style=\"text-align: right;\">\n",
       "      <th></th>\n",
       "      <th>description</th>\n",
       "      <th>transcription</th>\n",
       "      <th>sample_name</th>\n",
       "      <th>medical_specialty</th>\n",
       "      <th>keywords</th>\n",
       "    </tr>\n",
       "  </thead>\n",
       "  <tbody>\n",
       "    <tr>\n",
       "      <th>0</th>\n",
       "      <td>Pacemaker ICD interrogation.  Severe nonischem...</td>\n",
       "      <td>PROCEDURE NOTE: , Pacemaker ICD interrogation....</td>\n",
       "      <td>Pacemaker Interrogation</td>\n",
       "      <td>Cardiovascular / Pulmonary</td>\n",
       "      <td>cardiovascular / pulmonary, cardiomyopathy, ve...</td>\n",
       "    </tr>\n",
       "    <tr>\n",
       "      <th>1</th>\n",
       "      <td>Erythema of the right knee and leg, possible s...</td>\n",
       "      <td>PREOPERATIVE DIAGNOSES: , Erythema of the righ...</td>\n",
       "      <td>Aspiration - Knee Joint</td>\n",
       "      <td>Orthopedic</td>\n",
       "      <td>orthopedic, knee and leg, anterolateral portal...</td>\n",
       "    </tr>\n",
       "    <tr>\n",
       "      <th>2</th>\n",
       "      <td>Left cardiac catheterization with selective ri...</td>\n",
       "      <td>PREOPERATIVE DIAGNOSIS: , Post infarct angina....</td>\n",
       "      <td>Cardiac Cath &amp; Selective Coronary Angiography</td>\n",
       "      <td>Cardiovascular / Pulmonary</td>\n",
       "      <td>cardiovascular / pulmonary, selective, angiogr...</td>\n",
       "    </tr>\n",
       "    <tr>\n",
       "      <th>3</th>\n",
       "      <td>Patient with a history of coronary artery dise...</td>\n",
       "      <td>REASON FOR VISIT: , Acute kidney failure.,HIST...</td>\n",
       "      <td>Acute Kidney Failure</td>\n",
       "      <td>Nephrology</td>\n",
       "      <td>None</td>\n",
       "    </tr>\n",
       "    <tr>\n",
       "      <th>4</th>\n",
       "      <td>Cardiac evaluation and treatment in a patient ...</td>\n",
       "      <td>REASON FOR REFERRAL: , Cardiac evaluation and ...</td>\n",
       "      <td>Cardiac Consultation - 6</td>\n",
       "      <td>Cardiovascular / Pulmonary</td>\n",
       "      <td>None</td>\n",
       "    </tr>\n",
       "  </tbody>\n",
       "</table>\n",
       "</div>"
      ],
      "text/plain": [
       "                                         description  \\\n",
       "0  Pacemaker ICD interrogation.  Severe nonischem...   \n",
       "1  Erythema of the right knee and leg, possible s...   \n",
       "2  Left cardiac catheterization with selective ri...   \n",
       "3  Patient with a history of coronary artery dise...   \n",
       "4  Cardiac evaluation and treatment in a patient ...   \n",
       "\n",
       "                                       transcription  \\\n",
       "0  PROCEDURE NOTE: , Pacemaker ICD interrogation....   \n",
       "1  PREOPERATIVE DIAGNOSES: , Erythema of the righ...   \n",
       "2  PREOPERATIVE DIAGNOSIS: , Post infarct angina....   \n",
       "3  REASON FOR VISIT: , Acute kidney failure.,HIST...   \n",
       "4  REASON FOR REFERRAL: , Cardiac evaluation and ...   \n",
       "\n",
       "                                     sample_name           medical_specialty  \\\n",
       "0                        Pacemaker Interrogation  Cardiovascular / Pulmonary   \n",
       "1                        Aspiration - Knee Joint                  Orthopedic   \n",
       "2  Cardiac Cath & Selective Coronary Angiography  Cardiovascular / Pulmonary   \n",
       "3                           Acute Kidney Failure                  Nephrology   \n",
       "4                       Cardiac Consultation - 6  Cardiovascular / Pulmonary   \n",
       "\n",
       "                                            keywords  \n",
       "0  cardiovascular / pulmonary, cardiomyopathy, ve...  \n",
       "1  orthopedic, knee and leg, anterolateral portal...  \n",
       "2  cardiovascular / pulmonary, selective, angiogr...  \n",
       "3                                               None  \n",
       "4                                               None  "
      ]
     },
     "execution_count": 10,
     "metadata": {},
     "output_type": "execute_result"
    }
   ],
   "source": [
    "# ==============================\n",
    "# 2. Load Dataset\n",
    "# ==============================\n",
    "ds = load_dataset(\"hpe-ai/medical-cases-classification-tutorial\")\n",
    "\n",
    "train_df = ds[\"train\"].to_pandas()\n",
    "val_df   = ds[\"validation\"].to_pandas()\n",
    "test_df  = ds[\"test\"].to_pandas()\n",
    "\n",
    "# Combine all sets for clustering\n",
    "df = pd.concat([train_df, val_df, test_df], ignore_index=True)\n",
    "print(\"Total samples:\", df.shape[0])\n",
    "df.head()\n"
   ]
  },
  {
   "cell_type": "code",
   "execution_count": 11,
   "id": "88d70690",
   "metadata": {},
   "outputs": [
    {
     "name": "stdout",
     "output_type": "stream",
     "text": [
      "TF-IDF matrix shape: (2464, 20000)\n"
     ]
    }
   ],
   "source": [
    "# ==============================\n",
    "# 3. TF-IDF Vectorization\n",
    "# ==============================\n",
    "tfidf = TfidfVectorizer(\n",
    "    lowercase=True,\n",
    "    stop_words=\"english\",\n",
    "    ngram_range=(1,2),\n",
    "    max_features=20000\n",
    ")\n",
    "\n",
    "X = tfidf.fit_transform(df[\"transcription\"].fillna(\"\"))\n",
    "print(\"TF-IDF matrix shape:\", X.shape)\n"
   ]
  },
  {
   "cell_type": "code",
   "execution_count": 12,
   "id": "69adbe33",
   "metadata": {},
   "outputs": [
    {
     "name": "stdout",
     "output_type": "stream",
     "text": [
      "k=5, silhouette=0.0199\n",
      "k=8, silhouette=0.0233\n",
      "k=10, silhouette=0.0261\n",
      "k=13, silhouette=0.0272\n",
      "k=15, silhouette=0.0303\n"
     ]
    },
    {
     "data": {
      "image/png": "[encoded data removed]",
      "text/plain": [
       "<Figure size 600x400 with 1 Axes>"
      ]
     },
     "metadata": {},
     "output_type": "display_data"
    }
   ],
   "source": [
    "# ==============================\n",
    "# 4. Silhouette Scores for Different k\n",
    "# ==============================\n",
    "scores = {}\n",
    "for k in [5, 8, 10, 13, 15]:\n",
    "    km = KMeans(n_clusters=k, random_state=42, n_init=10)\n",
    "    labels = km.fit_predict(X)\n",
    "    score = silhouette_score(X, labels)\n",
    "    scores[k] = score\n",
    "    print(f\"k={k}, silhouette={score:.4f}\")\n",
    "\n",
    "# Plot scores\n",
    "plt.figure(figsize=(6,4))\n",
    "sns.lineplot(x=list(scores.keys()), y=list(scores.values()), marker=\"o\")\n",
    "plt.title(\"Silhouette Scores for Different k\")\n",
    "plt.xlabel(\"Number of clusters (k)\")\n",
    "plt.ylabel(\"Silhouette Score\")\n",
    "plt.show()\n"
   ]
  },
  {
   "cell_type": "code",
   "execution_count": 13,
   "id": "3f047b2e",
   "metadata": {},
   "outputs": [
    {
     "name": "stdout",
     "output_type": "stream",
     "text": [
      "Cluster assignments complete ✅\n"
     ]
    },
    {
     "data": {
      "text/html": [
       "<div>\n",
       "<style scoped>\n",
       "    .dataframe tbody tr th:only-of-type {\n",
       "        vertical-align: middle;\n",
       "    }\n",
       "\n",
       "    .dataframe tbody tr th {\n",
       "        vertical-align: top;\n",
       "    }\n",
       "\n",
       "    .dataframe thead th {\n",
       "        text-align: right;\n",
       "    }\n",
       "</style>\n",
       "<table border=\"1\" class=\"dataframe\">\n",
       "  <thead>\n",
       "    <tr style=\"text-align: right;\">\n",
       "      <th></th>\n",
       "      <th>transcription</th>\n",
       "      <th>cluster</th>\n",
       "    </tr>\n",
       "  </thead>\n",
       "  <tbody>\n",
       "    <tr>\n",
       "      <th>0</th>\n",
       "      <td>PROCEDURE NOTE: , Pacemaker ICD interrogation....</td>\n",
       "      <td>7</td>\n",
       "    </tr>\n",
       "    <tr>\n",
       "      <th>1</th>\n",
       "      <td>PREOPERATIVE DIAGNOSES: , Erythema of the righ...</td>\n",
       "      <td>5</td>\n",
       "    </tr>\n",
       "    <tr>\n",
       "      <th>2</th>\n",
       "      <td>PREOPERATIVE DIAGNOSIS: , Post infarct angina....</td>\n",
       "      <td>8</td>\n",
       "    </tr>\n",
       "    <tr>\n",
       "      <th>3</th>\n",
       "      <td>REASON FOR VISIT: , Acute kidney failure.,HIST...</td>\n",
       "      <td>1</td>\n",
       "    </tr>\n",
       "    <tr>\n",
       "      <th>4</th>\n",
       "      <td>REASON FOR REFERRAL: , Cardiac evaluation and ...</td>\n",
       "      <td>10</td>\n",
       "    </tr>\n",
       "  </tbody>\n",
       "</table>\n",
       "</div>"
      ],
      "text/plain": [
       "                                       transcription  cluster\n",
       "0  PROCEDURE NOTE: , Pacemaker ICD interrogation....        7\n",
       "1  PREOPERATIVE DIAGNOSES: , Erythema of the righ...        5\n",
       "2  PREOPERATIVE DIAGNOSIS: , Post infarct angina....        8\n",
       "3  REASON FOR VISIT: , Acute kidney failure.,HIST...        1\n",
       "4  REASON FOR REFERRAL: , Cardiac evaluation and ...       10"
      ]
     },
     "execution_count": 13,
     "metadata": {},
     "output_type": "execute_result"
    }
   ],
   "source": [
    "# ==============================\n",
    "# 5. Final k-Means Clustering (k=13)\n",
    "# ==============================\n",
    "k = 13\n",
    "kmeans = KMeans(n_clusters=k, random_state=42, n_init=10)\n",
    "df[\"cluster\"] = kmeans.fit_predict(X)\n",
    "\n",
    "print(\"Cluster assignments complete ✅\")\n",
    "df[[\"transcription\", \"cluster\"]].head()\n"
   ]
  },
  {
   "cell_type": "code",
   "execution_count": 14,
   "id": "3dbf9a54",
   "metadata": {},
   "outputs": [
    {
     "name": "stdout",
     "output_type": "stream",
     "text": [
      "\n",
      "Top terms per cluster:\n",
      "Cluster 0: c5, c6, c4, c5 c6, cervical, c4 c5, c3, c7, c6 c7, c3 c4, anterior, anterior cervical, disc, disk, plate\n",
      "Cluster 1: mg, daily, mg daily, patient, day, history, mg day, disease, discharge, dr, 20 mg, 10, heart, 40 mg, 20\n",
      "Cluster 2: l5, l4, l4 l5, s1, l5 s1, lumbar, disc, nerve root, l3, root, disk, nerve, space, l3 l4, left\n",
      "Cluster 3: patient, history, normal, discharge, examination, clear, mom, time, past, noted, pain, respiratory, mg, medications, does\n",
      "Cluster 4: placed, patient, incision, procedure, closed, using, vicryl, uterus, anesthesia, fetal, right, fascia, suture, fashion, removed\n",
      "Cluster 5: knee, tendon, medial, fracture, patient, placed, lateral, joint, right, foot, tourniquet, left, metatarsal, procedure, tear\n",
      "Cluster 6: stress, heart rate, rate, heart, perfusion, exercise, beats, resting, test, minute, beats minute, predicted, myocardial perfusion, blood pressure, myocardial\n",
      "Cluster 7: eye, catheter, vein, lead, procedure, placed, chamber, patient, wire, subclavian, suture, right, removed, left, lens\n",
      "Cluster 8: artery, coronary, left, right, coronary artery, aortic, valve, stenosis, catheter, right coronary, french, vessel, descending, circumflex, ventricular\n",
      "Cluster 9: unremarkable, revealed, 93, exam, left, right, weakness, 95, 96, mri, 92, cn, sensory, brain, hx\n",
      "Cluster 10: history, patient, pain, past, denies, mg, does, medical, normal, right, symptoms, years, medications, states, family\n",
      "Cluster 11: ct, right, contrast, exam, left, pelvis, reason, impression, findings, evidence, normal, spine, cm, lobe, seen\n",
      "Cluster 12: procedure, patient, lobe, tube, right, scope, diagnosis, left, upper, placed, chest, anesthesia, bronchoscope, colon, preoperative\n"
     ]
    }
   ],
   "source": [
    "# ==============================\n",
    "# 6. Top Terms per Cluster\n",
    "# ==============================\n",
    "terms = tfidf.get_feature_names_out()\n",
    "order_centroids = kmeans.cluster_centers_.argsort()[:, ::-1]\n",
    "\n",
    "print(\"\\nTop terms per cluster:\")\n",
    "for i in range(k):\n",
    "    top_terms = [terms[ind] for ind in order_centroids[i, :15]]\n",
    "    print(f\"Cluster {i}: {', '.join(top_terms)}\")\n"
   ]
  },
  {
   "cell_type": "code",
   "execution_count": 15,
   "id": "e0df8ba2",
   "metadata": {},
   "outputs": [
    {
     "data": {
      "image/png": "[encoded data removed]",
      "text/plain": [
       "<Figure size 800x500 with 1 Axes>"
      ]
     },
     "metadata": {},
     "output_type": "display_data"
    }
   ],
   "source": [
    "# ==============================\n",
    "# 7. Cluster Distribution\n",
    "# ==============================\n",
    "plt.figure(figsize=(8,5))\n",
    "df[\"cluster\"].value_counts().sort_index().plot(kind=\"bar\")\n",
    "plt.title(\"Documents per Cluster\")\n",
    "plt.xlabel(\"Cluster\")\n",
    "plt.ylabel(\"Count\")\n",
    "plt.show()\n"
   ]
  }
 ],
 "metadata": {
  "kernelspec": {
   "display_name": "Python 3",
   "language": "python",
   "name": "python3"
  },
  "language_info": {
   "codemirror_mode": {
    "name": "ipython",
    "version": 3
   },
   "file_extension": ".py",
   "mimetype": "text/x-python",
   "name": "python",
   "nbconvert_exporter": "python",
   "pygments_lexer": "ipython3",
   "version": "3.13.0"
  }
 },
 "nbformat": 4,
 "nbformat_minor": 5
}
