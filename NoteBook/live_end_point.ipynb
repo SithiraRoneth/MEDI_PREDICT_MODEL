{
 "cells": [
  {
   "cell_type": "code",
   "execution_count": 1,
   "id": "9511b940",
   "metadata": {},
   "outputs": [],
   "source": [
    "from google.cloud import aiplatform"
   ]
  },
  {
   "cell_type": "code",
   "execution_count": 4,
   "id": "401c3fe1",
   "metadata": {},
   "outputs": [],
   "source": [
    "PROJECT_ID = \"ai-model-470604\"\n",
    "LOCATION = \"us-central1\"         \n",
    "ENDPOINT_ID = \"6454849037114802176\"  "
   ]
  },
  {
   "cell_type": "code",
   "execution_count": 6,
   "id": "880c9396",
   "metadata": {},
   "outputs": [
    {
     "name": "stdout",
     "output_type": "stream",
     "text": [
      "Prediction response: Prediction(predictions=['Cardiovascular / Pulmonary'], deployed_model_id='832346794900848640', metadata=None, model_version_id='1', model_resource_name='projects/309911676424/locations/us-central1/models/2150498508883361792', explanations=None)\n"
     ]
    }
   ],
   "source": [
    "# 1. Initialize Vertex AI client\n",
    "aiplatform.init(project=PROJECT_ID, location=LOCATION)\n",
    "\n",
    "# 2. Load the deployed endpoint\n",
    "endpoint = aiplatform.Endpoint(ENDPOINT_ID)\n",
    "\n",
    "# 3. Create a test instance\n",
    "test_instances = [\n",
    "    \"Patient presents with severe chest pain and shortness of breath.\"\n",
    "]\n",
    "# 4. Send prediction request\n",
    "response = endpoint.predict(instances=test_instances)\n",
    "\n",
    "# 5. Print response\n",
    "print(\"Prediction response:\", response)"
   ]
  }
 ],
 "metadata": {
  "kernelspec": {
   "display_name": "Python 3",
   "language": "python",
   "name": "python3"
  },
  "language_info": {
   "codemirror_mode": {
    "name": "ipython",
    "version": 3
   },
   "file_extension": ".py",
   "mimetype": "text/x-python",
   "name": "python",
   "nbconvert_exporter": "python",
   "pygments_lexer": "ipython3",
   "version": "3.12.6"
  }
 },
 "nbformat": 4,
 "nbformat_minor": 5
}
